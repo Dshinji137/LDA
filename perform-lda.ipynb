{
 "cells": [
  {
   "cell_type": "code",
   "execution_count": 1,
   "metadata": {},
   "outputs": [],
   "source": [
    "# load data\n",
    "import pandas as pd\n",
    "\n",
    "data = pd.read_csv('abcnews-date-text.csv', error_bad_lines=False);\n",
    "data_text = data[['headline_text']]\n",
    "data_text['index'] = data_text.index\n",
    "documents = data_text"
   ]
  },
  {
   "cell_type": "code",
   "execution_count": 12,
   "metadata": {},
   "outputs": [
    {
     "name": "stdout",
     "output_type": "stream",
     "text": [
      "1103665\n"
     ]
    }
   ],
   "source": [
    "print(len(documents))"
   ]
  },
  {
   "cell_type": "code",
   "execution_count": 2,
   "metadata": {},
   "outputs": [],
   "source": [
    "import gensim\n",
    "from gensim.utils import simple_preprocess\n",
    "from gensim.parsing.preprocessing import STOPWORDS\n",
    "\n",
    "from nltk.stem import WordNetLemmatizer, SnowballStemmer\n",
    "from nltk.stem.porter import *\n",
    "\n",
    "import numpy as np\n",
    "np.random.seed(2018)"
   ]
  },
  {
   "cell_type": "code",
   "execution_count": 3,
   "metadata": {},
   "outputs": [],
   "source": [
    "import nltk\n",
    "#nltk.download('wordnet')"
   ]
  },
  {
   "cell_type": "code",
   "execution_count": 8,
   "metadata": {},
   "outputs": [],
   "source": [
    "# remove words who is in stopwords or length < 3\n",
    "from nltk import PorterStemmer\n",
    "\n",
    "def lemmatize_stemming(text):\n",
    "    #return stemmer.stem(WordNetLemmatizer().lemmatize(text, pos='v'))\n",
    "    return PorterStemmer().stem(WordNetLemmatizer().lemmatize(text, pos='v'))\n",
    "\n",
    "def preprocess(text):\n",
    "    result = []\n",
    "    for token in gensim.utils.simple_preprocess(text):\n",
    "        if token not in gensim.parsing.preprocessing.STOPWORDS and len(token) > 3:\n",
    "            result.append(lemmatize_stemming(token))\n",
    "    return result"
   ]
  },
  {
   "cell_type": "code",
   "execution_count": 9,
   "metadata": {},
   "outputs": [
    {
     "name": "stdout",
     "output_type": "stream",
     "text": [
      "rain helps dampen bushfires\n",
      "['rain', 'help', 'dampen', 'bushfir']\n"
     ]
    }
   ],
   "source": [
    "# test preprocess\n",
    "doc_sample = documents[documents['index'] == 4310].values[0][0]\n",
    "print(doc_sample)\n",
    "print(preprocess(doc_sample))"
   ]
  },
  {
   "cell_type": "code",
   "execution_count": 10,
   "metadata": {},
   "outputs": [],
   "source": [
    "# preprocess all headlines\n",
    "process_docs = documents['headline_text'].map(preprocess)"
   ]
  },
  {
   "cell_type": "code",
   "execution_count": 21,
   "metadata": {},
   "outputs": [],
   "source": [
    "dictionary = gensim.corpora.Dictionary(process_docs)"
   ]
  },
  {
   "cell_type": "code",
   "execution_count": 22,
   "metadata": {
    "scrolled": true
   },
   "outputs": [
    {
     "name": "stdout",
     "output_type": "stream",
     "text": [
      "62379\n"
     ]
    }
   ],
   "source": [
    "print(len(dictionary.iteritems()))"
   ]
  },
  {
   "cell_type": "code",
   "execution_count": 23,
   "metadata": {},
   "outputs": [],
   "source": [
    "# filter out tokens that appear in\n",
    "\n",
    "# 1. less than 15 documents (absolute number) or\n",
    "# 2. more than 0.5 documents (fraction of total corpus size, not absolute number).\n",
    "# 3. after the above two steps, keep only the first 100000 most frequent tokens.\n",
    "\n",
    "dictionary.filter_extremes(no_below=15, no_above=0.5, keep_n=100000)"
   ]
  },
  {
   "cell_type": "code",
   "execution_count": 32,
   "metadata": {
    "scrolled": false
   },
   "outputs": [],
   "source": [
    "# get all docs' word distribution\n",
    "bow_corpus = [dictionary.doc2bow(doc) for doc in process_docs]"
   ]
  },
  {
   "cell_type": "code",
   "execution_count": 50,
   "metadata": {},
   "outputs": [
    {
     "name": "stdout",
     "output_type": "stream",
     "text": [
      "[(0, 1), (1, 1), (2, 1), (3, 1)]\n",
      "[(4, 1), (5, 1), (6, 1)]\n",
      "[(7, 1), (8, 1), (9, 1), (10, 1)]\n",
      "[(11, 1), (12, 1), (13, 1), (14, 1)]\n",
      "[(14, 1), (15, 1), (16, 1), (17, 1)]\n",
      "[(18, 1), (19, 1), (20, 1), (21, 1)]\n"
     ]
    }
   ],
   "source": [
    "# test bag of words\n",
    "cnt = 0\n",
    "for doc in bow_corpus:\n",
    "    print(doc)\n",
    "    cnt += 1\n",
    "    if cnt > 5:\n",
    "        break"
   ]
  },
  {
   "cell_type": "code",
   "execution_count": 35,
   "metadata": {},
   "outputs": [],
   "source": [
    "# generate tf_idf score\n",
    "from gensim import corpora, models\n",
    "\n",
    "tf_idf = models.TfidfModel(bow_corpus)\n",
    "corpus_tfidf = tf_idf[bow_corpus]"
   ]
  },
  {
   "cell_type": "code",
   "execution_count": 49,
   "metadata": {},
   "outputs": [
    {
     "name": "stdout",
     "output_type": "stream",
     "text": [
      "[(0, 0.5903602896750699), (1, 0.38524510107363613), (2, 0.4974556071174764), (3, 0.5055678583740412)]\n",
      "[(4, 0.5950795791857478), (5, 0.6246275884087716), (6, 0.505688313326258)]\n",
      "[(7, 0.38320252667383414), (8, 0.5606508321974041), (9, 0.4720788907709393), (10, 0.5621102994925704)]\n",
      "[(11, 0.5300483107405607), (12, 0.4377844649314713), (13, 0.5401253870279202), (14, 0.48544630684935974)]\n",
      "[(14, 0.4584894785270075), (15, 0.5645993838792257), (16, 0.3883597714037109), (17, 0.5658547709072431)]\n",
      "[(18, 0.6495723838017874), (19, 0.46245282544959365), (20, 0.5028027888963171), (21, 0.3337401053422206)]\n"
     ]
    }
   ],
   "source": [
    "# test tf_idf scores\n",
    "cnt = 0\n",
    "for doc in corpus_tfidf:\n",
    "    print(doc)\n",
    "    cnt += 1\n",
    "    if cnt > 5:\n",
    "        break"
   ]
  },
  {
   "cell_type": "code",
   "execution_count": 53,
   "metadata": {},
   "outputs": [],
   "source": [
    "# use bag of words to perform lda\n",
    "lda_model_bow = gensim.models.LdaMulticore(bow_corpus, num_topics=10, id2word=dictionary, passes=2, workers=2)"
   ]
  },
  {
   "cell_type": "code",
   "execution_count": 54,
   "metadata": {
    "scrolled": true
   },
   "outputs": [
    {
     "name": "stdout",
     "output_type": "stream",
     "text": [
      "topic 0\n",
      "0.029*\"year\" + 0.028*\"charg\" + 0.026*\"court\" + 0.020*\"murder\" + 0.017*\"face\" + 0.014*\"interview\" + 0.014*\"woman\" + 0.014*\"jail\" + 0.014*\"south\" + 0.014*\"polic\"\n",
      "topic 1\n",
      "0.021*\"polic\" + 0.019*\"adelaid\" + 0.019*\"women\" + 0.016*\"donald\" + 0.014*\"investig\" + 0.013*\"life\" + 0.013*\"concern\" + 0.013*\"home\" + 0.012*\"test\" + 0.012*\"protest\"\n",
      "topic 2\n",
      "0.019*\"school\" + 0.018*\"market\" + 0.016*\"health\" + 0.016*\"rural\" + 0.014*\"hour\" + 0.013*\"share\" + 0.013*\"servic\" + 0.012*\"deal\" + 0.012*\"north\" + 0.011*\"worker\"\n",
      "topic 3\n",
      "0.030*\"govern\" + 0.024*\"australia\" + 0.024*\"world\" + 0.020*\"nation\" + 0.017*\"countri\" + 0.016*\"final\" + 0.015*\"open\" + 0.014*\"tasmanian\" + 0.011*\"leagu\" + 0.010*\"win\"\n",
      "topic 4\n",
      "0.021*\"canberra\" + 0.021*\"coast\" + 0.014*\"price\" + 0.014*\"gold\" + 0.011*\"time\" + 0.010*\"australia\" + 0.010*\"research\" + 0.009*\"marriag\" + 0.009*\"star\" + 0.008*\"like\"\n",
      "topic 5\n",
      "0.021*\"crash\" + 0.019*\"die\" + 0.016*\"tasmania\" + 0.013*\"break\" + 0.012*\"road\" + 0.012*\"abus\" + 0.012*\"bank\" + 0.011*\"show\" + 0.011*\"polit\" + 0.011*\"royal\"\n",
      "topic 6\n",
      "0.045*\"australian\" + 0.022*\"queensland\" + 0.016*\"miss\" + 0.016*\"warn\" + 0.011*\"flood\" + 0.011*\"case\" + 0.010*\"search\" + 0.010*\"game\" + 0.010*\"near\" + 0.010*\"hobart\"\n",
      "topic 7\n",
      "0.040*\"sydney\" + 0.024*\"council\" + 0.018*\"turnbul\" + 0.015*\"victoria\" + 0.014*\"park\" + 0.013*\"hold\" + 0.010*\"talk\" + 0.010*\"citi\" + 0.009*\"malcolm\" + 0.009*\"michael\"\n",
      "topic 8\n",
      "0.015*\"state\" + 0.014*\"say\" + 0.013*\"elect\" + 0.012*\"power\" + 0.012*\"plan\" + 0.011*\"fund\" + 0.010*\"labor\" + 0.010*\"busi\" + 0.009*\"chang\" + 0.009*\"minist\"\n",
      "topic 9\n",
      "0.036*\"trump\" + 0.026*\"attack\" + 0.023*\"kill\" + 0.018*\"live\" + 0.016*\"melbourn\" + 0.012*\"dead\" + 0.012*\"shoot\" + 0.010*\"prison\" + 0.010*\"say\" + 0.009*\"liber\"\n"
     ]
    }
   ],
   "source": [
    "for idx, topic in lda_model_bow.print_topics():\n",
    "    print('topic',idx)\n",
    "    print(topic)"
   ]
  },
  {
   "cell_type": "code",
   "execution_count": 51,
   "metadata": {},
   "outputs": [],
   "source": [
    "lda_model_tfidf = gensim.models.LdaMulticore(corpus_tfidf, num_topics=10, id2word=dictionary, passes=2, workers=4)"
   ]
  },
  {
   "cell_type": "code",
   "execution_count": 52,
   "metadata": {
    "scrolled": true
   },
   "outputs": [
    {
     "name": "stdout",
     "output_type": "stream",
     "text": [
      "topic 0\n",
      "0.011*\"elect\" + 0.010*\"govern\" + 0.008*\"marriag\" + 0.006*\"say\" + 0.006*\"senat\" + 0.006*\"parti\" + 0.006*\"labor\" + 0.005*\"april\" + 0.005*\"liber\" + 0.005*\"updat\"\n",
      "topic 1\n",
      "0.016*\"charg\" + 0.014*\"murder\" + 0.014*\"crash\" + 0.012*\"polic\" + 0.011*\"woman\" + 0.011*\"court\" + 0.010*\"jail\" + 0.009*\"shoot\" + 0.009*\"assault\" + 0.008*\"sentenc\"\n",
      "topic 2\n",
      "0.009*\"health\" + 0.008*\"fund\" + 0.008*\"drum\" + 0.007*\"govern\" + 0.006*\"sport\" + 0.005*\"servic\" + 0.005*\"school\" + 0.005*\"budget\" + 0.005*\"mental\" + 0.004*\"indigen\"\n",
      "topic 3\n",
      "0.024*\"countri\" + 0.022*\"hour\" + 0.020*\"rural\" + 0.015*\"news\" + 0.012*\"podcast\" + 0.009*\"live\" + 0.008*\"busi\" + 0.007*\"john\" + 0.007*\"nation\" + 0.007*\"climat\"\n",
      "topic 4\n",
      "0.015*\"trump\" + 0.009*\"world\" + 0.009*\"final\" + 0.008*\"australia\" + 0.007*\"leagu\" + 0.007*\"market\" + 0.007*\"australian\" + 0.007*\"open\" + 0.006*\"grandstand\" + 0.006*\"share\"\n",
      "topic 5\n",
      "0.009*\"turnbul\" + 0.008*\"violenc\" + 0.007*\"korea\" + 0.006*\"tuesday\" + 0.006*\"kill\" + 0.006*\"domest\" + 0.005*\"syria\" + 0.005*\"say\" + 0.005*\"wrap\" + 0.005*\"refuge\"\n",
      "topic 6\n",
      "0.010*\"weather\" + 0.007*\"flood\" + 0.007*\"bushfir\" + 0.006*\"queensland\" + 0.006*\"septemb\" + 0.006*\"peter\" + 0.006*\"warn\" + 0.005*\"damag\" + 0.005*\"malcolm\" + 0.005*\"victorian\"\n",
      "topic 7\n",
      "0.010*\"donald\" + 0.006*\"decemb\" + 0.005*\"social\" + 0.004*\"spend\" + 0.004*\"cyclon\" + 0.004*\"data\" + 0.004*\"billion\" + 0.004*\"australia\" + 0.004*\"whale\" + 0.004*\"watch\"\n",
      "topic 8\n",
      "0.009*\"price\" + 0.007*\"farmer\" + 0.006*\"dairi\" + 0.006*\"august\" + 0.006*\"novemb\" + 0.005*\"jam\" + 0.005*\"drought\" + 0.004*\"rain\" + 0.004*\"grower\" + 0.004*\"grain\"\n",
      "topic 9\n",
      "0.016*\"interview\" + 0.012*\"polic\" + 0.010*\"miss\" + 0.009*\"search\" + 0.008*\"alleg\" + 0.008*\"royal\" + 0.008*\"bodi\" + 0.008*\"investig\" + 0.007*\"commiss\" + 0.007*\"octob\"\n"
     ]
    }
   ],
   "source": [
    "for idx, topic in lda_model_tfidf.print_topics():\n",
    "    print('topic',idx)\n",
    "    print(topic)"
   ]
  },
  {
   "cell_type": "code",
   "execution_count": 62,
   "metadata": {
    "scrolled": true
   },
   "outputs": [
    {
     "name": "stdout",
     "output_type": "stream",
     "text": [
      "score 0.02\n",
      "0.031*\"queensland\" + 0.020*\"countri\" + 0.018*\"hospit\" + 0.017*\"tasmanian\" + 0.017*\"hour\" + 0.015*\"work\" + 0.014*\"children\" + 0.013*\"student\" + 0.013*\"citi\" + 0.012*\"school\"\n",
      "score 0.020004459\n",
      "0.029*\"australia\" + 0.023*\"world\" + 0.017*\"market\" + 0.012*\"record\" + 0.012*\"share\" + 0.011*\"victoria\" + 0.010*\"industri\" + 0.010*\"australian\" + 0.009*\"port\" + 0.008*\"fall\"\n",
      "score 0.6193763\n",
      "0.035*\"trump\" + 0.022*\"kill\" + 0.022*\"north\" + 0.020*\"coast\" + 0.016*\"china\" + 0.016*\"attack\" + 0.015*\"adelaid\" + 0.014*\"west\" + 0.013*\"price\" + 0.013*\"gold\"\n",
      "score 0.22060585\n",
      "0.027*\"govern\" + 0.017*\"plan\" + 0.015*\"council\" + 0.014*\"rural\" + 0.013*\"say\" + 0.012*\"indigen\" + 0.012*\"chang\" + 0.012*\"turnbul\" + 0.012*\"water\" + 0.011*\"commun\"\n",
      "score 0.02\n",
      "0.017*\"tasmania\" + 0.015*\"time\" + 0.015*\"fight\" + 0.014*\"life\" + 0.014*\"leagu\" + 0.013*\"lose\" + 0.010*\"john\" + 0.009*\"premier\" + 0.009*\"unit\" + 0.008*\"compani\"\n",
      "score 0.02000162\n",
      "0.027*\"elect\" + 0.023*\"south\" + 0.022*\"nation\" + 0.017*\"final\" + 0.016*\"open\" + 0.014*\"australia\" + 0.011*\"park\" + 0.010*\"budget\" + 0.010*\"polit\" + 0.010*\"talk\"\n",
      "score 0.020000048\n",
      "0.017*\"brisban\" + 0.017*\"famili\" + 0.014*\"child\" + 0.013*\"report\" + 0.012*\"jail\" + 0.011*\"abus\" + 0.011*\"sentenc\" + 0.011*\"show\" + 0.010*\"victim\" + 0.010*\"releas\"\n",
      "score 0.020005746\n",
      "0.023*\"hous\" + 0.019*\"die\" + 0.016*\"crash\" + 0.016*\"home\" + 0.014*\"break\" + 0.013*\"perth\" + 0.013*\"take\" + 0.011*\"melbourn\" + 0.011*\"lead\" + 0.010*\"near\"\n",
      "score 0.02000418\n",
      "0.034*\"polic\" + 0.018*\"interview\" + 0.018*\"health\" + 0.017*\"miss\" + 0.014*\"investig\" + 0.014*\"sydney\" + 0.013*\"concern\" + 0.011*\"search\" + 0.011*\"servic\" + 0.011*\"call\"\n",
      "score 0.020001765\n",
      "0.032*\"charg\" + 0.030*\"court\" + 0.023*\"murder\" + 0.022*\"polic\" + 0.019*\"face\" + 0.015*\"accus\" + 0.015*\"donald\" + 0.014*\"drug\" + 0.014*\"woman\" + 0.013*\"arrest\"\n",
      "\n",
      "score 0.2977268\n",
      "0.031*\"queensland\" + 0.020*\"countri\" + 0.018*\"hospit\" + 0.017*\"tasmanian\" + 0.017*\"hour\" + 0.015*\"work\" + 0.014*\"children\" + 0.013*\"student\" + 0.013*\"citi\" + 0.012*\"school\"\n",
      "score 0.020000221\n",
      "0.029*\"australia\" + 0.023*\"world\" + 0.017*\"market\" + 0.012*\"record\" + 0.012*\"share\" + 0.011*\"victoria\" + 0.010*\"industri\" + 0.010*\"australian\" + 0.009*\"port\" + 0.008*\"fall\"\n",
      "score 0.020004902\n",
      "0.035*\"trump\" + 0.022*\"kill\" + 0.022*\"north\" + 0.020*\"coast\" + 0.016*\"china\" + 0.016*\"attack\" + 0.015*\"adelaid\" + 0.014*\"west\" + 0.013*\"price\" + 0.013*\"gold\"\n",
      "score 0.020003092\n",
      "0.027*\"govern\" + 0.017*\"plan\" + 0.015*\"council\" + 0.014*\"rural\" + 0.013*\"say\" + 0.012*\"indigen\" + 0.012*\"chang\" + 0.012*\"turnbul\" + 0.012*\"water\" + 0.011*\"commun\"\n",
      "score 0.020000538\n",
      "0.017*\"tasmania\" + 0.015*\"time\" + 0.015*\"fight\" + 0.014*\"life\" + 0.014*\"leagu\" + 0.013*\"lose\" + 0.010*\"john\" + 0.009*\"premier\" + 0.009*\"unit\" + 0.008*\"compani\"\n",
      "score 0.020001316\n",
      "0.027*\"elect\" + 0.023*\"south\" + 0.022*\"nation\" + 0.017*\"final\" + 0.016*\"open\" + 0.014*\"australia\" + 0.011*\"park\" + 0.010*\"budget\" + 0.010*\"polit\" + 0.010*\"talk\"\n",
      "score 0.02001277\n",
      "0.017*\"brisban\" + 0.017*\"famili\" + 0.014*\"child\" + 0.013*\"report\" + 0.012*\"jail\" + 0.011*\"abus\" + 0.011*\"sentenc\" + 0.011*\"show\" + 0.010*\"victim\" + 0.010*\"releas\"\n",
      "score 0.020003522\n",
      "0.023*\"hous\" + 0.019*\"die\" + 0.016*\"crash\" + 0.016*\"home\" + 0.014*\"break\" + 0.013*\"perth\" + 0.013*\"take\" + 0.011*\"melbourn\" + 0.011*\"lead\" + 0.010*\"near\"\n",
      "score 0.5422455\n",
      "0.034*\"polic\" + 0.018*\"interview\" + 0.018*\"health\" + 0.017*\"miss\" + 0.014*\"investig\" + 0.014*\"sydney\" + 0.013*\"concern\" + 0.011*\"search\" + 0.011*\"servic\" + 0.011*\"call\"\n",
      "score 0.020001289\n",
      "0.032*\"charg\" + 0.030*\"court\" + 0.023*\"murder\" + 0.022*\"polic\" + 0.019*\"face\" + 0.015*\"accus\" + 0.015*\"donald\" + 0.014*\"drug\" + 0.014*\"woman\" + 0.013*\"arrest\"\n"
     ]
    }
   ],
   "source": [
    "# test a known doc\n",
    "known_doc = bow_corpus[4000]\n",
    "\n",
    "for index, score in lda_model_bow[known_doc]:\n",
    "    print('score',score)\n",
    "    print(lda_model.print_topic(index))\n",
    "    \n",
    "print()\n",
    "\n",
    "for index, score in lda_model_tfidf[known_doc]:\n",
    "    print('score',score)\n",
    "    print(lda_model.print_topic(index))"
   ]
  },
  {
   "cell_type": "code",
   "execution_count": 66,
   "metadata": {
    "scrolled": true
   },
   "outputs": [
    {
     "name": "stdout",
     "output_type": "stream",
     "text": [
      "topic 2\n",
      "score 0.5166655\n",
      "topic 6\n",
      "score 0.18333334\n",
      "topic 1\n",
      "score 0.1833333\n",
      "topic 5\n",
      "score 0.016667439\n",
      "topic 7\n",
      "score 0.016667051\n",
      "topic 3\n",
      "score 0.016666686\n",
      "topic 4\n",
      "score 0.016666675\n",
      "topic 0\n",
      "score 0.016666668\n",
      "topic 8\n",
      "score 0.016666668\n",
      "topic 9\n",
      "score 0.016666668\n",
      "\n",
      "topic 0\n",
      "score 0.50218195\n",
      "topic 4\n",
      "score 0.19451046\n",
      "topic 9\n",
      "score 0.1866321\n",
      "topic 5\n",
      "score 0.016669193\n",
      "topic 2\n",
      "score 0.01666825\n",
      "topic 8\n",
      "score 0.01666818\n",
      "topic 3\n",
      "score 0.016667897\n",
      "topic 7\n",
      "score 0.016667632\n",
      "topic 6\n",
      "score 0.016667472\n",
      "topic 1\n",
      "score 0.016666887\n"
     ]
    }
   ],
   "source": [
    "# test an unknown doc\n",
    "unseen_document = 'How a Pentagon deal became an identity crisis for Google'\n",
    "bow_vector = dictionary.doc2bow(preprocess(unseen_document))\n",
    "\n",
    "for index, score in sorted(lda_model_bow[bow_vector], key=lambda tup: -1*tup[1]):\n",
    "    print('topic',index)\n",
    "    print('score',score)\n",
    "    #print(lda_model.print_topic(index))\n",
    "    \n",
    "print()\n",
    "\n",
    "for index, score in sorted(lda_model_tfidf[bow_vector], key=lambda tup: -1*tup[1]):\n",
    "    print('topic',index)\n",
    "    print('score',score)\n",
    "    #print(lda_model.print_topic(index))"
   ]
  },
  {
   "cell_type": "code",
   "execution_count": null,
   "metadata": {},
   "outputs": [],
   "source": []
  }
 ],
 "metadata": {
  "kernelspec": {
   "display_name": "Python 3",
   "language": "python",
   "name": "python3"
  },
  "language_info": {
   "codemirror_mode": {
    "name": "ipython",
    "version": 3
   },
   "file_extension": ".py",
   "mimetype": "text/x-python",
   "name": "python",
   "nbconvert_exporter": "python",
   "pygments_lexer": "ipython3",
   "version": "3.6.7"
  }
 },
 "nbformat": 4,
 "nbformat_minor": 2
}
